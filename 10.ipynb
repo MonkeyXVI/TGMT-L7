{
 "cells": [
  {
   "cell_type": "code",
   "execution_count": 1,
   "metadata": {},
   "outputs": [],
   "source": [
    "# Import thư viện\n",
    "from PIL import Image\n",
    "import matplotlib.pyplot as plt"
   ]
  },
  {
   "cell_type": "code",
   "execution_count": 2,
   "metadata": {},
   "outputs": [
    {
     "name": "stdout",
     "output_type": "stream",
     "text": [
      "[(1060.2237903225805, 375.5447580645164), (1089.9637096774193, 841.4701612903227), (1317.969758064516, 980.2564516129032), (1565.8024193548385, 1019.9096774193549), (1783.8951612903224, 1198.3491935483871), (1972.2479838709673, 1317.3088709677422), (2210.167338709677, 1565.1415322580647), (2378.6935483870966, 1664.274596774194), (2676.0927419354834, 1644.447983870968), (3062.711693548387, 1624.6213709677422)]\n"
     ]
    }
   ],
   "source": [
    "# dường dẫn ảnh\n",
    "my_path = 'E:\\\\thigiacmaytinh\\\\hinhanh\\\\03.jpg'\n",
    "\n",
    "# dọc ảnh\n",
    "im = Image.open(my_path)\n",
    "\n",
    "# chuyển đổi backend\n",
    "plt.switch_backend('tkagg')\n",
    "\n",
    "# hiển thị ảnh\n",
    "plt.imshow(im)\n",
    "plt.title('Click on the image to select points')\n",
    "\n",
    "# sử dụng hàm ginput để chọn điểm trên ảnh\n",
    "points = plt.ginput(10)\n",
    "\n",
    "print(points)\n",
    "\n",
    "# hiển thị\n",
    "plt.show()"
   ]
  },
  {
   "cell_type": "code",
   "execution_count": 3,
   "metadata": {},
   "outputs": [],
   "source": [
    "# vẽ lại các điểm đã chọn bằng dấu * màu đỏ\n",
    "plt.close()\n",
    "# vẽ lại\n",
    "plt.imshow(im)\n",
    "for point in points:\n",
    "    x, y = point\n",
    "    plt.plot(x,y, 'r*')\n",
    "\n",
    "plt.show()"
   ]
  },
  {
   "cell_type": "code",
   "execution_count": null,
   "metadata": {},
   "outputs": [],
   "source": []
  },
  {
   "cell_type": "code",
   "execution_count": null,
   "metadata": {},
   "outputs": [],
   "source": []
  },
  {
   "cell_type": "code",
   "execution_count": null,
   "metadata": {},
   "outputs": [],
   "source": []
  },
  {
   "cell_type": "code",
   "execution_count": null,
   "metadata": {},
   "outputs": [],
   "source": []
  },
  {
   "cell_type": "code",
   "execution_count": null,
   "metadata": {},
   "outputs": [],
   "source": []
  }
 ],
 "metadata": {
  "kernelspec": {
   "display_name": "base",
   "language": "python",
   "name": "python3"
  },
  "language_info": {
   "codemirror_mode": {
    "name": "ipython",
    "version": 3
   },
   "file_extension": ".py",
   "mimetype": "text/x-python",
   "name": "python",
   "nbconvert_exporter": "python",
   "pygments_lexer": "ipython3",
   "version": "3.12.4"
  }
 },
 "nbformat": 4,
 "nbformat_minor": 2
}
