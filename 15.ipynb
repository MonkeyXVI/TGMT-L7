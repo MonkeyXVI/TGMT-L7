{
 "cells": [
  {
   "cell_type": "code",
   "execution_count": 5,
   "metadata": {},
   "outputs": [],
   "source": [
    " #!pip install scipy"
   ]
  },
  {
   "cell_type": "code",
   "execution_count": 6,
   "metadata": {},
   "outputs": [],
   "source": [
    "from scipy import linalg\n",
    "import numpy as np\n"
   ]
  },
  {
   "cell_type": "code",
   "execution_count": 7,
   "metadata": {},
   "outputs": [
    {
     "name": "stdout",
     "output_type": "stream",
     "text": [
      "kết quả [-2.  6.]\n"
     ]
    }
   ],
   "source": [
    "\n",
    "# Định Nghĩa hệ phương trình tuyến tính\n",
    "\n",
    "A = np.array ([[4,2], [5,2]])\n",
    "B = np.array ([4,2])\n",
    "\n",
    "# Giải hệ tương trình tuyến tích\n",
    "x = linalg.solve( A, B)\n",
    "print(\"kết quả\", x)"
   ]
  },
  {
   "cell_type": "code",
   "execution_count": 8,
   "metadata": {},
   "outputs": [
    {
     "name": "stdout",
     "output_type": "stream",
     "text": [
      "tính tích phân  f(x) từ 0 đến 1:  (-4.833333333333333, 5.366077952354923e-14)\n"
     ]
    }
   ],
   "source": [
    "# Tính tích phân của hàm số\n",
    "from scipy import integrate\n",
    "# Định nghĩa f(x)=x^2\n",
    "def my_function(x):\n",
    "    return x**2+x+1;\n",
    "\n",
    "# Tính tích phân của f(x) từ 0 đến 1\n",
    "\n",
    "integrate = integrate.quad (my_function, 2, 1);\n",
    "print (\"tính tích phân  f(x) từ 0 đến 1: \", integrate)"
   ]
  },
  {
   "cell_type": "code",
   "execution_count": 9,
   "metadata": {},
   "outputs": [],
   "source": [
    "from scipy import linalg\n",
    "import numpy as np"
   ]
  },
  {
   "cell_type": "code",
   "execution_count": 10,
   "metadata": {},
   "outputs": [
    {
     "name": "stdout",
     "output_type": "stream",
     "text": [
      "Giá trị riêng:  [6.37228132+0.j 0.62771868+0.j]\n",
      "Vector riêng:  [[ 0.58893305 -0.22295647]\n",
      " [ 0.80818183  0.9748284 ]]\n"
     ]
    }
   ],
   "source": [
    "# tính giá trị riêng và vector riêng cảu một ma trận\n",
    "A = np.array([[5,1], [6,2 ]])\n",
    "\n",
    "# Tính giá trị riêng và vector riêng của ma trận\n",
    "evals, evecs = linalg.eig(A)\n",
    "\n",
    "print(\"Giá trị riêng: \", evals)\n",
    "print(\"Vector riêng: \", evecs)"
   ]
  },
  {
   "cell_type": "code",
   "execution_count": 11,
   "metadata": {},
   "outputs": [
    {
     "name": "stdout",
     "output_type": "stream",
     "text": [
      "Tích phân kép: 3.333333333333334\n"
     ]
    }
   ],
   "source": [
    "from scipy import integrate\n",
    "\n",
    "def integrand(x, y):\n",
    "    return x**2 + y**2\n",
    "\n",
    "result, error = integrate.dblquad(integrand, 0, 1, lambda x: 0, lambda x: 2)\n",
    "print(f\"Tích phân kép: {result}\")"
   ]
  },
  {
   "cell_type": "code",
   "execution_count": null,
   "metadata": {},
   "outputs": [],
   "source": []
  }
 ],
 "metadata": {
  "kernelspec": {
   "display_name": "Python 3",
   "language": "python",
   "name": "python3"
  },
  "language_info": {
   "codemirror_mode": {
    "name": "ipython",
    "version": 3
   },
   "file_extension": ".py",
   "mimetype": "text/x-python",
   "name": "python",
   "nbconvert_exporter": "python",
   "pygments_lexer": "ipython3",
   "version": "3.11.9"
  }
 },
 "nbformat": 4,
 "nbformat_minor": 2
}
